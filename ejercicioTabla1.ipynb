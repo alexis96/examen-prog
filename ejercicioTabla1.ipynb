{
 "cells": [
  {
   "cell_type": "code",
   "execution_count": 192,
   "metadata": {},
   "outputs": [],
   "source": [
    "import pandas as pd\n",
    "pd.set_option('display.max_columns', None)\n",
    "# Primero cambie los caracteres especiales que impedian la correcta lectura\n",
    "# Leemos el archivo\n",
    "dfCovid = pd.read_csv(\"covid-data/200511COVID19MEXICO.CSV\")\n",
    "dfCovid['FECHA_SINTOMAS'] = dfCovid['FECHA_SINTOMAS'].astype('datetime64[ns]')"
   ]
  },
  {
   "cell_type": "code",
   "execution_count": 193,
   "metadata": {},
   "outputs": [],
   "source": [
    "# Filtramos los positivos\n",
    "dfCovidPositivo = dfCovid[dfCovid['RESULTADO'] == 1 ]\n",
    "# Filtramos por la unidad medica donde se atendio (\"Sonora\")\n",
    "dfCovidPositivo = dfCovid[dfCovid['ENTIDAD_UM'] == 26 ]"
   ]
  },
  {
   "cell_type": "code",
   "execution_count": 194,
   "metadata": {},
   "outputs": [],
   "source": [
    "# Obtenemos todos los positivos con fecha de defuncion diferente de \"9999-99-99\" \n",
    "dfPositivoDef = dfCovidPositivo[dfCovidPositivo[\"FECHA_DEF\"] != \"9999-99-99\"].copy()\n",
    "dfPositivoDef[\"FECHA_DEF\"] = pd.to_datetime(dfPositivoDef[\"FECHA_DEF\"])\n",
    "#Agrupados por \"FECHA_DEF\" y contamos por \"ID_REGISTRO\" para obtener el total de defunciones por fecha\n",
    "dfPositivoDef = dfPositivoDef.groupby(\"FECHA_DEF\").agg({\"ID_REGISTRO\":\"count\"}).reset_index()\n",
    "# Renombramos las columnas\n",
    "dfPositivoDef.columns = [\"FECHA\",\"TOTAL_DEFUNCIONES\"]"
   ]
  },
  {
   "cell_type": "code",
   "execution_count": 196,
   "metadata": {},
   "outputs": [],
   "source": [
    "# Agrupamos por \"FECHA_SINTOMAS\" y contamos por \"ID_REGISTRO\" para obtener el total de confirmados por fecha\n",
    "dfPositivoTotal = dfCovidPositivo.groupby(\"FECHA_SINTOMAS\").agg({\"ID_REGISTRO\":\"count\"}).copy().reset_index()\n",
    "# Renombramos las columnas\n",
    "dfPositivoTotal.columns = [\"FECHA\",\"TOTAL_CONFIRMADOS\"]\n",
    "# Hacemos una mezcla de los dos dataframes para obtener nuestra tabla agrupada por fecha\n",
    "# con TOTAL_CONFIRMADOS y TOTAL_DEFUNCIONES en SONORA\n",
    "dfResultFecha = pd.merge(dfPositivoTotal, dfPositivoDef, how='outer', on='FECHA').fillna(0)\n",
    "dfResultFecha.to_csv(\"tabla1.csv\",index=False)"
   ]
  },
  {
   "cell_type": "code",
   "execution_count": null,
   "metadata": {
    "collapsed": true
   },
   "outputs": [],
   "source": []
  },
  {
   "cell_type": "code",
   "execution_count": null,
   "metadata": {
    "collapsed": true
   },
   "outputs": [],
   "source": []
  },
  {
   "cell_type": "code",
   "execution_count": null,
   "metadata": {
    "collapsed": true
   },
   "outputs": [],
   "source": []
  },
  {
   "cell_type": "code",
   "execution_count": null,
   "metadata": {
    "collapsed": true
   },
   "outputs": [],
   "source": []
  },
  {
   "cell_type": "code",
   "execution_count": null,
   "metadata": {
    "collapsed": true
   },
   "outputs": [],
   "source": []
  },
  {
   "cell_type": "code",
   "execution_count": null,
   "metadata": {
    "collapsed": true
   },
   "outputs": [],
   "source": []
  },
  {
   "cell_type": "code",
   "execution_count": null,
   "metadata": {
    "collapsed": true
   },
   "outputs": [],
   "source": []
  },
  {
   "cell_type": "code",
   "execution_count": null,
   "metadata": {
    "collapsed": true
   },
   "outputs": [],
   "source": []
  }
 ],
 "metadata": {
  "kernelspec": {
   "display_name": "Python 3",
   "language": "python",
   "name": "python3"
  },
  "language_info": {
   "codemirror_mode": {
    "name": "ipython",
    "version": 3
   },
   "file_extension": ".py",
   "mimetype": "text/x-python",
   "name": "python",
   "nbconvert_exporter": "python",
   "pygments_lexer": "ipython3",
   "version": "3.6.1"
  }
 },
 "nbformat": 4,
 "nbformat_minor": 2
}
