{
 "cells": [
  {
   "cell_type": "code",
   "execution_count": 21,
   "metadata": {},
   "outputs": [],
   "source": [
    "import pandas as pd\n",
    "pd.set_option('display.max_columns', None)\n",
    "# Primero cambie los caracteres especiales que impedian la correcta lectura\n",
    "# Leemos el archivo\n",
    "dfCovid = pd.read_csv(\"covid-data/200511COVID19MEXICO.CSV\")\n",
    "\n",
    "# Filtramos los positivos y hospitalizados\n",
    "dfCovidPositivo = dfCovid.query('RESULTADO == 1 & TIPO_PACIENTE == 2')"
   ]
  },
  {
   "cell_type": "code",
   "execution_count": 22,
   "metadata": {},
   "outputs": [],
   "source": [
    "# Filtramos por las unidades medicas donde se atendio (\"Sonora\",\"Chihuahua\",\"Nuevo Leon\",\"Puebla\")\n",
    "dfCovidPositivo = dfCovid.query('ENTIDAD_UM == 26 | ENTIDAD_UM == 8 | ENTIDAD_UM == 19 | ENTIDAD_UM == 21')\n",
    "#Agrupados por \"ENTIDAD_UM\" y contamos por \"ID_REGISTRO\" para obtener el total de casos\n",
    "dfCovidPositivoEstados = dfCovidPositivo.groupby(\"ENTIDAD_UM\").agg({\"ID_REGISTRO\":\"count\"}).reset_index()\n",
    "# Renombramos las columnas\n",
    "dfCovidPositivoEstados.columns = [\"ENTIDAD_UM\",\"TOTAL_HOSPITALIZADOS\"]\n",
    "# Agregamos el nombre de la entidad para una mejor referencia\n",
    "dfCovidPositivoEstados[\"ENTIDAD\"] = ['Chihuahua','Nuevo Leon','Puebla','Sonora']\n",
    "dfCovidPositivoEstados.to_csv(\"tabla2.csv\",index=False)"
   ]
  },
  {
   "cell_type": "code",
   "execution_count": null,
   "metadata": {
    "collapsed": true
   },
   "outputs": [],
   "source": []
  },
  {
   "cell_type": "code",
   "execution_count": null,
   "metadata": {
    "collapsed": true
   },
   "outputs": [],
   "source": []
  },
  {
   "cell_type": "code",
   "execution_count": null,
   "metadata": {
    "collapsed": true
   },
   "outputs": [],
   "source": []
  }
 ],
 "metadata": {
  "kernelspec": {
   "display_name": "Python 3",
   "language": "python",
   "name": "python3"
  },
  "language_info": {
   "codemirror_mode": {
    "name": "ipython",
    "version": 3
   },
   "file_extension": ".py",
   "mimetype": "text/x-python",
   "name": "python",
   "nbconvert_exporter": "python",
   "pygments_lexer": "ipython3",
   "version": "3.6.1"
  }
 },
 "nbformat": 4,
 "nbformat_minor": 2
}
